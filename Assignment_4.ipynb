{
 "cells": [
  {
   "cell_type": "code",
   "execution_count": null,
   "metadata": {},
   "outputs": [],
   "source": [
    "#TASK 1 Write a function to find moving average in an array over a window:\n",
    "#Test it over [3, 5, 7, 2, 8, 10, 11, 65, 72, 81, 99, 100, 150] and window of 3."
   ]
  },
  {
   "cell_type": "code",
   "execution_count": 17,
   "metadata": {},
   "outputs": [],
   "source": [
    "\n",
    "def move_avg(x,k):\n",
    "    n=len(x)\n",
    "    l=[]\n",
    "    for i in range(0,n-k+1,1):\n",
    "        sum=0\n",
    "        for j in range(0,k):\n",
    "            sum=sum+x[i+j]\n",
    "        l.append(sum/3)\n",
    "    return l  \n",
    "    "
   ]
  },
  {
   "cell_type": "code",
   "execution_count": 18,
   "metadata": {
    "scrolled": true
   },
   "outputs": [
    {
     "name": "stdout",
     "output_type": "stream",
     "text": [
      "[5.0, 4.666666666666667, 5.666666666666667, 6.666666666666667, 9.666666666666666, 28.666666666666668, 49.333333333333336, 72.66666666666667, 84.0, 93.33333333333333, 116.33333333333333]\n"
     ]
    }
   ],
   "source": [
    "k=3\n",
    "l=[3,5,7,2,8,10,11,65,72,81,99,100,150]\n",
    "result=move_avg(l,k)\n",
    "print(result)"
   ]
  },
  {
   "cell_type": "code",
   "execution_count": null,
   "metadata": {},
   "outputs": [],
   "source": [
    "#TASK 2.1 How-to-count-distance-to-the-previous-zero\n",
    "#For each value, count the difference back to the previous zero (or the start of the Series,\n",
    "#whichever is closer)\n",
    "#create a new column 'Y'\n",
    "#Consider a DataFrame df where there is an integer column 'X'\n",
    "#import pandas as pd\n",
    "#df = pd.DataFrame({'X': [7, 2, 0, 3, 4, 2, 5, 0, 3, 4]})"
   ]
  },
  {
   "cell_type": "code",
   "execution_count": 10,
   "metadata": {},
   "outputs": [
    {
     "name": "stdout",
     "output_type": "stream",
     "text": [
      "Output:\n"
     ]
    },
    {
     "data": {
      "text/html": [
       "<div>\n",
       "<style scoped>\n",
       "    .dataframe tbody tr th:only-of-type {\n",
       "        vertical-align: middle;\n",
       "    }\n",
       "\n",
       "    .dataframe tbody tr th {\n",
       "        vertical-align: top;\n",
       "    }\n",
       "\n",
       "    .dataframe thead th {\n",
       "        text-align: right;\n",
       "    }\n",
       "</style>\n",
       "<table border=\"1\" class=\"dataframe\">\n",
       "  <thead>\n",
       "    <tr style=\"text-align: right;\">\n",
       "      <th></th>\n",
       "      <th>x</th>\n",
       "      <th>y</th>\n",
       "    </tr>\n",
       "  </thead>\n",
       "  <tbody>\n",
       "    <tr>\n",
       "      <th>0</th>\n",
       "      <td>7</td>\n",
       "      <td>NaN</td>\n",
       "    </tr>\n",
       "    <tr>\n",
       "      <th>1</th>\n",
       "      <td>2</td>\n",
       "      <td>NaN</td>\n",
       "    </tr>\n",
       "    <tr>\n",
       "      <th>2</th>\n",
       "      <td>0</td>\n",
       "      <td>NaN</td>\n",
       "    </tr>\n",
       "    <tr>\n",
       "      <th>3</th>\n",
       "      <td>3</td>\n",
       "      <td>1.0</td>\n",
       "    </tr>\n",
       "    <tr>\n",
       "      <th>4</th>\n",
       "      <td>4</td>\n",
       "      <td>2.0</td>\n",
       "    </tr>\n",
       "    <tr>\n",
       "      <th>5</th>\n",
       "      <td>25</td>\n",
       "      <td>3.0</td>\n",
       "    </tr>\n",
       "    <tr>\n",
       "      <th>6</th>\n",
       "      <td>0</td>\n",
       "      <td>NaN</td>\n",
       "    </tr>\n",
       "    <tr>\n",
       "      <th>7</th>\n",
       "      <td>3</td>\n",
       "      <td>1.0</td>\n",
       "    </tr>\n",
       "    <tr>\n",
       "      <th>8</th>\n",
       "      <td>4</td>\n",
       "      <td>2.0</td>\n",
       "    </tr>\n",
       "  </tbody>\n",
       "</table>\n",
       "</div>"
      ],
      "text/plain": [
       "    x    y\n",
       "0   7  NaN\n",
       "1   2  NaN\n",
       "2   0  NaN\n",
       "3   3  1.0\n",
       "4   4  2.0\n",
       "5  25  3.0\n",
       "6   0  NaN\n",
       "7   3  1.0\n",
       "8   4  2.0"
      ]
     },
     "execution_count": 10,
     "metadata": {},
     "output_type": "execute_result"
    }
   ],
   "source": [
    "import numpy as np\n",
    "import pandas as pd\n",
    "df=pd.DataFrame({'x':[7,2,0,3,4,25,0,3,4]})\n",
    "\n",
    "def count_dist_zero(y):\n",
    "    l=df[df['x']==y].index.values.astype(int)[0]\n",
    "    j=l-1\n",
    "    while(j>=0):\n",
    "        if df.iloc[j].x!=0:\n",
    "            j=j-1\n",
    "        elif df.iloc[j].x==0:\n",
    "            return l-j   \n",
    "    \n",
    "df['y']=df['x'].apply(count_dist_zero)\n",
    "print(\"Output:\")\n",
    "df\n"
   ]
  },
  {
   "cell_type": "code",
   "execution_count": null,
   "metadata": {},
   "outputs": [],
   "source": [
    "#TASK 2.2\n",
    "#Create a DatetimeIndex that contains each business day of 2015 and use it to index a Series of\n",
    "#random numbers."
   ]
  },
  {
   "cell_type": "code",
   "execution_count": 13,
   "metadata": {},
   "outputs": [
    {
     "data": {
      "text/plain": [
       "2015-01-01    1182\n",
       "2015-01-02    1309\n",
       "2015-01-05    1029\n",
       "2015-01-06     593\n",
       "2015-01-07     687\n",
       "2015-01-08     728\n",
       "2015-01-09    1185\n",
       "2015-01-12     838\n",
       "2015-01-13    1003\n",
       "2015-01-14    1207\n",
       "2015-01-15     654\n",
       "2015-01-16     513\n",
       "2015-01-19    1231\n",
       "2015-01-20    1304\n",
       "2015-01-21     789\n",
       "2015-01-22     636\n",
       "2015-01-23    1187\n",
       "2015-01-26    1421\n",
       "2015-01-27     761\n",
       "2015-01-28    1488\n",
       "2015-01-29    1357\n",
       "2015-01-30    1366\n",
       "2015-02-02     578\n",
       "2015-02-03     533\n",
       "2015-02-04     958\n",
       "2015-02-05    1141\n",
       "2015-02-06    1368\n",
       "2015-02-09    1303\n",
       "2015-02-10     935\n",
       "2015-02-11    1222\n",
       "              ... \n",
       "2015-11-20     527\n",
       "2015-11-23     977\n",
       "2015-11-24    1346\n",
       "2015-11-25     738\n",
       "2015-11-26     620\n",
       "2015-11-27     686\n",
       "2015-11-30     576\n",
       "2015-12-01    1216\n",
       "2015-12-02     662\n",
       "2015-12-03     594\n",
       "2015-12-04     569\n",
       "2015-12-07     835\n",
       "2015-12-08     714\n",
       "2015-12-09     924\n",
       "2015-12-10    1276\n",
       "2015-12-11     959\n",
       "2015-12-14     624\n",
       "2015-12-15     756\n",
       "2015-12-16    1399\n",
       "2015-12-17     939\n",
       "2015-12-18     732\n",
       "2015-12-21     754\n",
       "2015-12-22    1014\n",
       "2015-12-23     560\n",
       "2015-12-24     768\n",
       "2015-12-25     595\n",
       "2015-12-28     740\n",
       "2015-12-29    1041\n",
       "2015-12-30     940\n",
       "2015-12-31    1074\n",
       "Freq: B, Length: 261, dtype: int32"
      ]
     },
     "execution_count": 13,
     "metadata": {},
     "output_type": "execute_result"
    }
   ],
   "source": [
    "import pandas as pd\n",
    "import numpy.random as np\n",
    "index = pd.date_range('2015-01-01', '2015-12-31',freq='B')\n",
    "data=np.randint(500,1500,len(index))\n",
    "s = pd.Series(data, index=index)\n",
    "s"
   ]
  },
  {
   "cell_type": "code",
   "execution_count": null,
   "metadata": {},
   "outputs": [],
   "source": [
    "#TASK 2.3\n",
    "#Find the sum of the values in s for every Wednesday"
   ]
  },
  {
   "cell_type": "code",
   "execution_count": 14,
   "metadata": {},
   "outputs": [
    {
     "data": {
      "text/plain": [
       "51062"
      ]
     },
     "execution_count": 14,
     "metadata": {},
     "output_type": "execute_result"
    }
   ],
   "source": [
    "s.groupby(s.index.weekday_name).sum().Wednesday"
   ]
  },
  {
   "cell_type": "code",
   "execution_count": null,
   "metadata": {},
   "outputs": [],
   "source": [
    "#TASK2.4\n",
    "#Average For each calendar month"
   ]
  },
  {
   "cell_type": "code",
   "execution_count": 15,
   "metadata": {},
   "outputs": [
    {
     "data": {
      "text/plain": [
       "1     1021.272727\n",
       "2      888.850000\n",
       "3     1030.000000\n",
       "4     1054.636364\n",
       "5      880.619048\n",
       "6      984.909091\n",
       "7     1097.739130\n",
       "8     1043.952381\n",
       "9      890.090909\n",
       "10     917.818182\n",
       "11     895.904762\n",
       "12     855.869565\n",
       "dtype: float64"
      ]
     },
     "execution_count": 15,
     "metadata": {},
     "output_type": "execute_result"
    }
   ],
   "source": [
    "s.groupby(s.index.month).mean()"
   ]
  },
  {
   "cell_type": "code",
   "execution_count": null,
   "metadata": {},
   "outputs": [],
   "source": [
    "#TASK2.5\n",
    "#For each group of four consecutive calendar months in s, find the date on which the highest\n",
    "#value occurred."
   ]
  },
  {
   "cell_type": "code",
   "execution_count": 8,
   "metadata": {},
   "outputs": [
    {
     "name": "stdout",
     "output_type": "stream",
     "text": [
      "DatetimeIndex(['2015-01-31', '2015-05-31', '2015-09-30', '2016-01-31'], dtype='datetime64[ns]', freq=None)\n"
     ]
    },
    {
     "name": "stderr",
     "output_type": "stream",
     "text": [
      "C:\\ProgramData\\Anaconda3\\lib\\site-packages\\ipykernel_launcher.py:1: FutureWarning: pd.TimeGrouper is deprecated and will be removed; Please use pd.Grouper(freq=...)\n",
      "  \"\"\"Entry point for launching an IPython kernel.\n"
     ]
    }
   ],
   "source": [
    "high_4 = s.groupby(pd.TimeGrouper('4M')).max()\n",
    "high_4 = pd.Series(high_4[0:4]).index\n",
    "print(high_4)"
   ]
  },
  {
   "cell_type": "code",
   "execution_count": null,
   "metadata": {},
   "outputs": [],
   "source": []
  }
 ],
 "metadata": {
  "kernelspec": {
   "display_name": "Python 3",
   "language": "python",
   "name": "python3"
  },
  "language_info": {
   "codemirror_mode": {
    "name": "ipython",
    "version": 3
   },
   "file_extension": ".py",
   "mimetype": "text/x-python",
   "name": "python",
   "nbconvert_exporter": "python",
   "pygments_lexer": "ipython3",
   "version": "3.6.5"
  }
 },
 "nbformat": 4,
 "nbformat_minor": 2
}
